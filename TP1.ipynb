{
 "cells": [
  {
   "cell_type": "markdown",
   "id": "c2da8139-e486-4b67-ae29-0e879119dc8b",
   "metadata": {},
   "source": [
    "# TP1 - Cloud Computing\n",
    "## Aluno: Jean George Alves Evangelista\n",
    "## Matrícula: 2024661178"
   ]
  },
  {
   "cell_type": "markdown",
   "id": "c305ebeb-76fe-4e7a-8d4c-7ad2529f3800",
   "metadata": {},
   "source": [
    "## Initial setup"
   ]
  },
  {
   "cell_type": "code",
   "execution_count": 1,
   "id": "c0e911a5-6371-43f7-b05f-2695d2863ece",
   "metadata": {},
   "outputs": [],
   "source": [
    "import matplotlib.pyplot as plt\n",
    "import pyspark\n",
    "\n",
    "from pyspark.sql import SparkSession\n",
    "from pyspark.sql import functions as F"
   ]
  },
  {
   "cell_type": "code",
   "execution_count": 2,
   "id": "eeed05a8-efdf-46c9-8916-11106ffacba2",
   "metadata": {},
   "outputs": [
    {
     "name": "stderr",
     "output_type": "stream",
     "text": [
      "24/11/19 21:25:53 WARN Utils: Your hostname, cloud1 resolves to a loopback address: 127.0.1.1; using 192.168.121.115 instead (on interface eth0)\n",
      "24/11/19 21:25:53 WARN Utils: Set SPARK_LOCAL_IP if you need to bind to another address\n",
      "Setting default log level to \"WARN\".\n",
      "To adjust logging level use sc.setLogLevel(newLevel). For SparkR, use setLogLevel(newLevel).\n",
      "24/11/19 21:25:54 WARN NativeCodeLoader: Unable to load native-hadoop library for your platform... using builtin-java classes where applicable\n",
      "24/11/19 21:25:55 WARN Utils: Service 'SparkUI' could not bind on port 4040. Attempting port 4041.\n"
     ]
    }
   ],
   "source": [
    "spark = SparkSession.getActiveSession()\n",
    "\n",
    "# Load Spark if not loaded yet\n",
    "if spark is None:\n",
    "    spark = SparkSession.builder \\\n",
    "        .appName(\"HelloLines\") \\\n",
    "        .config(\"spark.executor.instances\", \"2\") \\\n",
    "        .config(\"spark.executor.cores\", \"2\") \\\n",
    "        .config(\"spark.executor.memory\", \"1024M\") \\\n",
    "        .getOrCreate()"
   ]
  },
  {
   "cell_type": "code",
   "execution_count": 3,
   "id": "4d6ef697-5d2b-4094-8555-78de9871b649",
   "metadata": {},
   "outputs": [
    {
     "name": "stderr",
     "output_type": "stream",
     "text": [
      "                                                                                \r"
     ]
    }
   ],
   "source": [
    "# Load playlists dataframe\n",
    "playlists_df = spark.read.json(\"hdfs://localhost:9000/tp1/playlist.json\")"
   ]
  },
  {
   "cell_type": "code",
   "execution_count": 4,
   "id": "a02186bd-7082-4a59-af5c-9a9896151fc5",
   "metadata": {},
   "outputs": [
    {
     "name": "stderr",
     "output_type": "stream",
     "text": [
      "                                                                                \r"
     ]
    }
   ],
   "source": [
    "# Load tracks dataframe\n",
    "tracks_df = spark.read.json(\"hdfs://localhost:9000/tp1/tracks.json\")"
   ]
  },
  {
   "cell_type": "markdown",
   "id": "7f292637-6048-401a-9ee3-9cec0092c652",
   "metadata": {},
   "source": [
    "## Task 1 - Statistics about songs duration"
   ]
  },
  {
   "cell_type": "markdown",
   "id": "2113a738-4d9b-4255-ad30-7e30f44562b2",
   "metadata": {},
   "source": [
    "### Generate a table containing the minimum, average and maximum duration, in milliseconds, of the songs in the dataset."
   ]
  },
  {
   "cell_type": "code",
   "execution_count": 5,
   "id": "af637c43-7432-44ec-bb1e-505d308a7502",
   "metadata": {},
   "outputs": [
    {
     "name": "stderr",
     "output_type": "stream",
     "text": [
      "[Stage 2:===============================================>         (20 + 4) / 24]\r"
     ]
    },
    {
     "name": "stdout",
     "output_type": "stream",
     "text": [
      "+-------+------------------+--------+\n",
      "|Minimum|           Average| Maximum|\n",
      "+-------+------------------+--------+\n",
      "|      0|234408.54976216817|10435467|\n",
      "+-------+------------------+--------+\n",
      "\n"
     ]
    },
    {
     "name": "stderr",
     "output_type": "stream",
     "text": [
      "                                                                                \r"
     ]
    }
   ],
   "source": [
    "statistics_table = tracks_df.select(\n",
    "    F.min(tracks_df.duration_ms).alias(\"Minimum\"),\n",
    "    F.avg(tracks_df.duration_ms).alias(\"Average\"),\n",
    "    F.max(tracks_df.duration_ms).alias(\"Maximum\")\n",
    ")\n",
    "\n",
    "statistics_table.show()"
   ]
  },
  {
   "cell_type": "markdown",
   "id": "d5a96afa-7be6-4f6a-a170-1188747d0d05",
   "metadata": {},
   "source": [
    "### Compute the first and third quartiles (detoned <i>Q</i><sub>1</sub> and <i>Q</i><sub>3</sub>), as well as the [interquartile range (IRQ)](https://en.wikipedia.org/wiki/Interquartile_range) (<i>Q</i><sub>3</sub> - <i>Q</i><sub>1</sub>)"
   ]
  },
  {
   "cell_type": "code",
   "execution_count": 6,
   "id": "a2dad74e-a872-4634-96ef-9105bd1d335a",
   "metadata": {},
   "outputs": [
    {
     "name": "stderr",
     "output_type": "stream",
     "text": [
      "                                                                                \r"
     ]
    },
    {
     "name": "stdout",
     "output_type": "stream",
     "text": [
      "+--------+--------+-------+\n",
      "|      Q1|      Q3|    IRQ|\n",
      "+--------+--------+-------+\n",
      "|198026.0|258133.0|60107.0|\n",
      "+--------+--------+-------+\n",
      "\n"
     ]
    }
   ],
   "source": [
    "# Calculate the first and third quartile with `approxQuantile`\n",
    "quartiles = tracks_df.approxQuantile(\"duration_ms\", [0.25, 0.75], 0.01)\n",
    "q1 = quartiles[0]\n",
    "q3 = quartiles[1]\n",
    "\n",
    "# Calculate the IRQ\n",
    "irq = q3 - q1\n",
    "\n",
    "# Create a data frame with the data and display\n",
    "quartiles_df = spark.createDataFrame([[q1, q3, irq]], [\"Q1\", \"Q3\", \"IRQ\"])\n",
    "quartiles_df.show()"
   ]
  },
  {
   "cell_type": "markdown",
   "id": "bcd1f16d-c148-40e9-98fe-2a69ac2df840",
   "metadata": {},
   "source": [
    "### Compute the set of songs with durations that are not outliers, as defined by the [IQRR](https://www.thoughtco.com/what-is-the-interquartile-range-rule-3126244) methodology. In other words, identify all songs with duration <i>x</i> such that <i>Q</i><sub>1</sub> - 1.5 × IQR < <i>x</i> < <i>Q</i><sub>3</sub> + 1.5 × IQR"
   ]
  },
  {
   "cell_type": "code",
   "execution_count": 7,
   "id": "c6a64644-c634-4785-84dc-eb0118182975",
   "metadata": {},
   "outputs": [
    {
     "name": "stdout",
     "output_type": "stream",
     "text": [
      "+--------------------+--------------------+------------------+--------------------+-----------+---+---+--------------------+--------------------+\n",
      "|          album_name|           album_uri|       artist_name|          artist_uri|duration_ms|pid|pos|          track_name|           track_uri|\n",
      "+--------------------+--------------------+------------------+--------------------+-----------+---+---+--------------------+--------------------+\n",
      "|        The Cookbook|spotify:album:6vV...|     Missy Elliott|spotify:artist:2w...|     226863|  0|  0|Lose Control (fea...|spotify:track:0Ua...|\n",
      "|         In The Zone|spotify:album:0z7...|    Britney Spears|spotify:artist:26...|     198800|  0|  1|               Toxic|spotify:track:6I9...|\n",
      "|Dangerously In Lo...|spotify:album:25h...|           Beyoncé|spotify:artist:6v...|     235933|  0|  2|       Crazy In Love|spotify:track:0Wq...|\n",
      "|           Justified|spotify:album:6QP...| Justin Timberlake|spotify:artist:31...|     267266|  0|  3|      Rock Your Body|spotify:track:1AW...|\n",
      "|            Hot Shot|spotify:album:6Nm...|            Shaggy|spotify:artist:5E...|     227600|  0|  4|        It Wasn't Me|spotify:track:1lz...|\n",
      "|         Confessions|spotify:album:0vO...|             Usher|spotify:artist:23...|     250373|  0|  5|               Yeah!|spotify:track:0XU...|\n",
      "|         Confessions|spotify:album:1RM...|             Usher|spotify:artist:23...|     223440|  0|  6|              My Boo|spotify:track:68v...|\n",
      "|                 PCD|spotify:album:5x8...|The Pussycat Dolls|spotify:artist:6w...|     225560|  0|  7|             Buttons|spotify:track:3Bx...|\n",
      "|The Writing's On ...|spotify:album:283...|   Destiny's Child|spotify:artist:1Y...|     271333|  0|  8|         Say My Name|spotify:track:7H6...|\n",
      "|Speakerboxxx/The ...|spotify:album:1Us...|           OutKast|spotify:artist:1G...|     235213|  0|  9|Hey Ya! - Radio M...|spotify:track:2Pp...|\n",
      "|               Loose|spotify:album:2yb...|     Nelly Furtado|spotify:artist:2j...|     242293|  0| 10|         Promiscuous|spotify:track:2ga...|\n",
      "|Right Where You W...|spotify:album:602...|   Jesse McCartney|spotify:artist:2H...|     211693|  0| 11|Right Where You W...|spotify:track:4Y4...|\n",
      "|      Beautiful Soul|spotify:album:2gi...|   Jesse McCartney|spotify:artist:2H...|     214226|  0| 12|      Beautiful Soul|spotify:track:1Hw...|\n",
      "|Departure - Recha...|spotify:album:2tD...|   Jesse McCartney|spotify:artist:2H...|     216880|  0| 13|             Leavin'|spotify:track:20O...|\n",
      "|              Cassie|spotify:album:0j1...|            Cassie|spotify:artist:27...|     192213|  0| 14|              Me & U|spotify:track:7k6...|\n",
      "|                  21|spotify:album:4cV...|           Omarion|spotify:artist:0f...|     256426|  0| 15|             Ice Box|spotify:track:1Bv...|\n",
      "|              Let Go|spotify:album:7h6...|     Avril Lavigne|spotify:artist:0p...|     204000|  0| 16|           Sk8er Boi|spotify:track:4om...|\n",
      "|         Chris Brown|spotify:album:49g...|       Chris Brown|spotify:artist:7b...|     229866|  0| 17|             Run It!|spotify:track:7xY...|\n",
      "|               B'Day|spotify:album:3MJ...|           Beyoncé|spotify:artist:6v...|     210453|  0| 18|Check On It - fea...|spotify:track:6d8...|\n",
      "|The Writing's On ...|spotify:album:283...|   Destiny's Child|spotify:artist:1Y...|     230200|  0| 19|    Jumpin', Jumpin'|spotify:track:4pm...|\n",
      "+--------------------+--------------------+------------------+--------------------+-----------+---+---+--------------------+--------------------+\n",
      "only showing top 20 rows\n",
      "\n"
     ]
    }
   ],
   "source": [
    "# Create the defined constant\n",
    "iqr_constant = 1.5 * irq\n",
    "\n",
    "# Build the conditions\n",
    "iqrr_condition_1 =  tracks_df.duration_ms > (q1 - iqr_constant)\n",
    "iqrr_condition_2 =  tracks_df.duration_ms < (q3 + iqr_constant)\n",
    "\n",
    "# Select the tracks that are not ouliers\n",
    "tracks_without_outliers = tracks_df.where(iqrr_condition_1 & iqrr_condition_2)\n",
    "tracks_without_outliers.show()"
   ]
  },
  {
   "cell_type": "markdown",
   "id": "4a481d53-6aec-4be0-90ac-92b26f5b2b74",
   "metadata": {},
   "source": [
    "### Using the IQRR methodology, how many songs would be considered outliers and removed from analysis? Generate a new table containing the minimum, average and maximum duration of the remaining songs."
   ]
  },
  {
   "cell_type": "code",
   "execution_count": 8,
   "id": "3db2526e-1c63-4dae-aa0d-c444bfd7d187",
   "metadata": {},
   "outputs": [
    {
     "name": "stderr",
     "output_type": "stream",
     "text": [
      "[Stage 14:=====================================>                  (16 + 8) / 24]\r"
     ]
    },
    {
     "name": "stdout",
     "output_type": "stream",
     "text": [
      "Songs with outliers: 10760544\n",
      "Songs without outliers: 10189635\n",
      "570909 songs would be considered outliers by using the IQRR methodology. \n"
     ]
    },
    {
     "name": "stderr",
     "output_type": "stream",
     "text": [
      "                                                                                \r"
     ]
    }
   ],
   "source": [
    "total_number = tracks_df.count()\n",
    "without_outliers_number = tracks_without_outliers.count()\n",
    "\n",
    "outliers_number = total_number - without_outliers_number\n",
    "print(\"Songs with outliers: \" + str(total_number))\n",
    "print(\"Songs without outliers: \" + str(without_outliers_number))\n",
    "print(str(outliers_number) + \" songs would be considered outliers by using the IQRR methodology. \")"
   ]
  },
  {
   "cell_type": "code",
   "execution_count": 9,
   "id": "d72c2edc-5762-4fa2-8563-31af9f58abcf",
   "metadata": {},
   "outputs": [
    {
     "name": "stdout",
     "output_type": "stream",
     "text": [
      "Minimum, average and maximum duration of the remaining songs:\n"
     ]
    },
    {
     "name": "stderr",
     "output_type": "stream",
     "text": [
      "[Stage 17:==============================================>         (20 + 4) / 24]\r"
     ]
    },
    {
     "name": "stdout",
     "output_type": "stream",
     "text": [
      "+-------+-----------------+-------+\n",
      "|Minimum|          Average|Maximum|\n",
      "+-------+-----------------+-------+\n",
      "| 107866|226795.8593433425| 348293|\n",
      "+-------+-----------------+-------+\n",
      "\n"
     ]
    },
    {
     "name": "stderr",
     "output_type": "stream",
     "text": [
      "                                                                                \r"
     ]
    }
   ],
   "source": [
    "statistics_table_without_outliners = tracks_without_outliers.select(\n",
    "    F.min(tracks_without_outliers.duration_ms).alias(\"Minimum\"),\n",
    "    F.avg(tracks_without_outliers.duration_ms).alias(\"Average\"),\n",
    "    F.max(tracks_without_outliers.duration_ms).alias(\"Maximum\")\n",
    ")\n",
    "\n",
    "print(\"Minimum, average and maximum duration of the remaining songs:\")\n",
    "statistics_table_without_outliners.show()"
   ]
  },
  {
   "cell_type": "code",
   "execution_count": 10,
   "id": "bb8143e9-c648-4918-af31-4974a790bca3",
   "metadata": {},
   "outputs": [],
   "source": [
    "tracks_df = tracks_without_outliers"
   ]
  },
  {
   "cell_type": "markdown",
   "id": "cd97bd2e-7dfd-4899-bc91-9342c3de0c83",
   "metadata": {},
   "source": [
    "## Task 2 - Finding the most popular artists over time"
   ]
  },
  {
   "cell_type": "markdown",
   "id": "3422155d-ccc6-4f12-9ad5-b550bd2163d9",
   "metadata": {},
   "source": [
    "### Find the five most popular artists ranked by the number of playlists they appear in"
   ]
  },
  {
   "cell_type": "code",
   "execution_count": 13,
   "id": "7068f8cd-8490-4e6f-a3be-f146cc651bc0",
   "metadata": {},
   "outputs": [
    {
     "name": "stderr",
     "output_type": "stream",
     "text": [
      "24/11/19 21:27:23 WARN RowBasedKeyValueBatch: Calling spill() on RowBasedKeyValueBatch. Will not spill but return 0.\n",
      "24/11/19 21:27:23 WARN RowBasedKeyValueBatch: Calling spill() on RowBasedKeyValueBatch. Will not spill but return 0.\n",
      "24/11/19 21:27:23 WARN RowBasedKeyValueBatch: Calling spill() on RowBasedKeyValueBatch. Will not spill but return 0.\n",
      "24/11/19 21:27:23 WARN RowBasedKeyValueBatch: Calling spill() on RowBasedKeyValueBatch. Will not spill but return 0.\n",
      "24/11/19 21:27:23 WARN RowBasedKeyValueBatch: Calling spill() on RowBasedKeyValueBatch. Will not spill but return 0.\n",
      "24/11/19 21:27:23 WARN RowBasedKeyValueBatch: Calling spill() on RowBasedKeyValueBatch. Will not spill but return 0.\n",
      "24/11/19 21:27:23 WARN RowBasedKeyValueBatch: Calling spill() on RowBasedKeyValueBatch. Will not spill but return 0.\n",
      "24/11/19 21:27:23 WARN RowBasedKeyValueBatch: Calling spill() on RowBasedKeyValueBatch. Will not spill but return 0.\n",
      "24/11/19 21:27:23 WARN RowBasedKeyValueBatch: Calling spill() on RowBasedKeyValueBatch. Will not spill but return 0.\n",
      "24/11/19 21:27:23 WARN RowBasedKeyValueBatch: Calling spill() on RowBasedKeyValueBatch. Will not spill but return 0.\n",
      "24/11/19 21:27:23 WARN RowBasedKeyValueBatch: Calling spill() on RowBasedKeyValueBatch. Will not spill but return 0.\n",
      "24/11/19 21:27:23 WARN RowBasedKeyValueBatch: Calling spill() on RowBasedKeyValueBatch. Will not spill but return 0.\n",
      "24/11/19 21:27:23 WARN RowBasedKeyValueBatch: Calling spill() on RowBasedKeyValueBatch. Will not spill but return 0.\n",
      "24/11/19 21:27:23 WARN RowBasedKeyValueBatch: Calling spill() on RowBasedKeyValueBatch. Will not spill but return 0.\n",
      "24/11/19 21:27:23 WARN RowBasedKeyValueBatch: Calling spill() on RowBasedKeyValueBatch. Will not spill but return 0.\n",
      "24/11/19 21:27:23 WARN RowBasedKeyValueBatch: Calling spill() on RowBasedKeyValueBatch. Will not spill but return 0.\n",
      "24/11/19 21:27:24 WARN RowBasedKeyValueBatch: Calling spill() on RowBasedKeyValueBatch. Will not spill but return 0.\n",
      "24/11/19 21:27:24 WARN RowBasedKeyValueBatch: Calling spill() on RowBasedKeyValueBatch. Will not spill but return 0.\n",
      "24/11/19 21:27:24 WARN RowBasedKeyValueBatch: Calling spill() on RowBasedKeyValueBatch. Will not spill but return 0.\n",
      "24/11/19 21:27:24 WARN RowBasedKeyValueBatch: Calling spill() on RowBasedKeyValueBatch. Will not spill but return 0.\n",
      "24/11/19 21:27:24 WARN RowBasedKeyValueBatch: Calling spill() on RowBasedKeyValueBatch. Will not spill but return 0.\n",
      "24/11/19 21:27:24 WARN RowBasedKeyValueBatch: Calling spill() on RowBasedKeyValueBatch. Will not spill but return 0.\n",
      "24/11/19 21:27:24 WARN RowBasedKeyValueBatch: Calling spill() on RowBasedKeyValueBatch. Will not spill but return 0.\n",
      "24/11/19 21:27:24 WARN RowBasedKeyValueBatch: Calling spill() on RowBasedKeyValueBatch. Will not spill but return 0.\n",
      "24/11/19 21:27:24 WARN RowBasedKeyValueBatch: Calling spill() on RowBasedKeyValueBatch. Will not spill but return 0.\n",
      "24/11/19 21:27:24 WARN RowBasedKeyValueBatch: Calling spill() on RowBasedKeyValueBatch. Will not spill but return 0.\n",
      "24/11/19 21:27:24 WARN RowBasedKeyValueBatch: Calling spill() on RowBasedKeyValueBatch. Will not spill but return 0.\n",
      "24/11/19 21:27:24 WARN RowBasedKeyValueBatch: Calling spill() on RowBasedKeyValueBatch. Will not spill but return 0.\n",
      "24/11/19 21:27:24 WARN RowBasedKeyValueBatch: Calling spill() on RowBasedKeyValueBatch. Will not spill but return 0.\n",
      "24/11/19 21:27:24 WARN RowBasedKeyValueBatch: Calling spill() on RowBasedKeyValueBatch. Will not spill but return 0.\n",
      "24/11/19 21:27:24 WARN RowBasedKeyValueBatch: Calling spill() on RowBasedKeyValueBatch. Will not spill but return 0.\n",
      "24/11/19 21:27:24 WARN RowBasedKeyValueBatch: Calling spill() on RowBasedKeyValueBatch. Will not spill but return 0.\n",
      "[Stage 23:======>                                                   (1 + 8) / 9]\r"
     ]
    },
    {
     "name": "stdout",
     "output_type": "stream",
     "text": [
      "+--------------------+--------------+--------------+\n",
      "|          artist_uri|   artist_name|playlist_count|\n",
      "+--------------------+--------------+--------------+\n",
      "|spotify:artist:3T...|         Drake|         31513|\n",
      "|spotify:artist:5p...|       Rihanna|         23706|\n",
      "|spotify:artist:5K...|    Kanye West|         21683|\n",
      "|spotify:artist:1X...|    The Weeknd|         19648|\n",
      "|spotify:artist:2Y...|Kendrick Lamar|         18222|\n",
      "+--------------------+--------------+--------------+\n",
      "\n"
     ]
    },
    {
     "name": "stderr",
     "output_type": "stream",
     "text": [
      "                                                                                \r"
     ]
    }
   ],
   "source": [
    "# Lets join the tracks with the playlists by `pid` (playlist id)\n",
    "# This can be considered unnecessary, I am doing this just to make sure that every track is present in a valid playlist\n",
    "tracks_with_playlists = tracks_df \\\n",
    "    .join(playlists_df, tracks_df.pid == playlists_df.pid, \"inner\") \\\n",
    "    .drop(tracks_df.pid) # Dropping one `pid` column, to avoid future issues\n",
    "\n",
    "# To get 5 the most popular artists (by number of playlists) we need:\n",
    "# 1 - Group by artist_uri & artist_name. Group by both can be considered unnecessary, but I am doing that to be more precise\n",
    "# 2 - After group by artist, count by pid. This way we have the playlist number per artist\n",
    "# 3 - Sort by count\n",
    "# 4 - Limit to 5, to get the 5 most popular\n",
    "most_popular_artists = tracks_with_playlists \\\n",
    "    .groupBy(\"artist_uri\", \"artist_name\") \\\n",
    "    .agg(F.countDistinct(\"pid\").alias(\"playlist_count\")) \\\n",
    "    .sort(F.desc(\"playlist_count\")) \\\n",
    "    .limit(5)\n",
    "\n",
    "most_popular_artists.show()"
   ]
  },
  {
   "cell_type": "markdown",
   "id": "3939a0b2-8192-4915-b0d2-edd3ba90b841",
   "metadata": {},
   "source": [
    "### Create a chart that shows the number of playlists containing each of these five artists over the years. Consider that an artist is present in a playlist after each playlist's last modification date."
   ]
  },
  {
   "cell_type": "code",
   "execution_count": 15,
   "id": "a6de5a31-b1a3-49c3-89fa-dbacf2351e8e",
   "metadata": {},
   "outputs": [
    {
     "name": "stderr",
     "output_type": "stream",
     "text": [
      "24/11/19 21:27:46 WARN RowBasedKeyValueBatch: Calling spill() on RowBasedKeyValueBatch. Will not spill but return 0.\n",
      "24/11/19 21:27:46 WARN RowBasedKeyValueBatch: Calling spill() on RowBasedKeyValueBatch. Will not spill but return 0.\n",
      "24/11/19 21:27:46 WARN RowBasedKeyValueBatch: Calling spill() on RowBasedKeyValueBatch. Will not spill but return 0.\n",
      "24/11/19 21:27:46 WARN RowBasedKeyValueBatch: Calling spill() on RowBasedKeyValueBatch. Will not spill but return 0.\n",
      "24/11/19 21:27:46 WARN RowBasedKeyValueBatch: Calling spill() on RowBasedKeyValueBatch. Will not spill but return 0.\n",
      "24/11/19 21:27:46 WARN RowBasedKeyValueBatch: Calling spill() on RowBasedKeyValueBatch. Will not spill but return 0.\n",
      "24/11/19 21:27:46 WARN RowBasedKeyValueBatch: Calling spill() on RowBasedKeyValueBatch. Will not spill but return 0.\n",
      "24/11/19 21:27:46 WARN RowBasedKeyValueBatch: Calling spill() on RowBasedKeyValueBatch. Will not spill but return 0.\n",
      "24/11/19 21:27:46 WARN RowBasedKeyValueBatch: Calling spill() on RowBasedKeyValueBatch. Will not spill but return 0.\n",
      "24/11/19 21:27:46 WARN RowBasedKeyValueBatch: Calling spill() on RowBasedKeyValueBatch. Will not spill but return 0.\n",
      "24/11/19 21:27:46 WARN RowBasedKeyValueBatch: Calling spill() on RowBasedKeyValueBatch. Will not spill but return 0.\n",
      "24/11/19 21:27:46 WARN RowBasedKeyValueBatch: Calling spill() on RowBasedKeyValueBatch. Will not spill but return 0.\n",
      "24/11/19 21:27:46 WARN RowBasedKeyValueBatch: Calling spill() on RowBasedKeyValueBatch. Will not spill but return 0.\n",
      "24/11/19 21:27:46 WARN RowBasedKeyValueBatch: Calling spill() on RowBasedKeyValueBatch. Will not spill but return 0.\n",
      "24/11/19 21:27:46 WARN RowBasedKeyValueBatch: Calling spill() on RowBasedKeyValueBatch. Will not spill but return 0.\n",
      "24/11/19 21:27:46 WARN RowBasedKeyValueBatch: Calling spill() on RowBasedKeyValueBatch. Will not spill but return 0.\n",
      "24/11/19 21:27:47 WARN RowBasedKeyValueBatch: Calling spill() on RowBasedKeyValueBatch. Will not spill but return 0.\n",
      "24/11/19 21:27:47 WARN RowBasedKeyValueBatch: Calling spill() on RowBasedKeyValueBatch. Will not spill but return 0.\n",
      "24/11/19 21:27:47 WARN RowBasedKeyValueBatch: Calling spill() on RowBasedKeyValueBatch. Will not spill but return 0.\n",
      "24/11/19 21:27:47 WARN RowBasedKeyValueBatch: Calling spill() on RowBasedKeyValueBatch. Will not spill but return 0.\n",
      "24/11/19 21:27:47 WARN RowBasedKeyValueBatch: Calling spill() on RowBasedKeyValueBatch. Will not spill but return 0.\n",
      "24/11/19 21:27:47 WARN RowBasedKeyValueBatch: Calling spill() on RowBasedKeyValueBatch. Will not spill but return 0.\n",
      "24/11/19 21:27:47 WARN RowBasedKeyValueBatch: Calling spill() on RowBasedKeyValueBatch. Will not spill but return 0.\n",
      "24/11/19 21:27:47 WARN RowBasedKeyValueBatch: Calling spill() on RowBasedKeyValueBatch. Will not spill but return 0.\n",
      "24/11/19 21:27:47 WARN RowBasedKeyValueBatch: Calling spill() on RowBasedKeyValueBatch. Will not spill but return 0.\n",
      "24/11/19 21:27:47 WARN RowBasedKeyValueBatch: Calling spill() on RowBasedKeyValueBatch. Will not spill but return 0.\n",
      "24/11/19 21:27:47 WARN RowBasedKeyValueBatch: Calling spill() on RowBasedKeyValueBatch. Will not spill but return 0.\n",
      "24/11/19 21:27:47 WARN RowBasedKeyValueBatch: Calling spill() on RowBasedKeyValueBatch. Will not spill but return 0.\n",
      "24/11/19 21:27:47 WARN RowBasedKeyValueBatch: Calling spill() on RowBasedKeyValueBatch. Will not spill but return 0.\n",
      "24/11/19 21:27:47 WARN RowBasedKeyValueBatch: Calling spill() on RowBasedKeyValueBatch. Will not spill but return 0.\n",
      "24/11/19 21:27:47 WARN RowBasedKeyValueBatch: Calling spill() on RowBasedKeyValueBatch. Will not spill but return 0.\n",
      "24/11/19 21:27:47 WARN RowBasedKeyValueBatch: Calling spill() on RowBasedKeyValueBatch. Will not spill but return 0.\n",
      "24/11/19 21:28:04 WARN RowBasedKeyValueBatch: Calling spill() on RowBasedKeyValueBatch. Will not spill but return 0.\n",
      "24/11/19 21:28:04 WARN RowBasedKeyValueBatch: Calling spill() on RowBasedKeyValueBatch. Will not spill but return 0.\n",
      "24/11/19 21:28:04 WARN RowBasedKeyValueBatch: Calling spill() on RowBasedKeyValueBatch. Will not spill but return 0.\n",
      "24/11/19 21:28:04 WARN RowBasedKeyValueBatch: Calling spill() on RowBasedKeyValueBatch. Will not spill but return 0.\n",
      "24/11/19 21:28:04 WARN RowBasedKeyValueBatch: Calling spill() on RowBasedKeyValueBatch. Will not spill but return 0.\n",
      "24/11/19 21:28:04 WARN RowBasedKeyValueBatch: Calling spill() on RowBasedKeyValueBatch. Will not spill but return 0.\n",
      "24/11/19 21:28:04 WARN RowBasedKeyValueBatch: Calling spill() on RowBasedKeyValueBatch. Will not spill but return 0.\n",
      "24/11/19 21:28:04 WARN RowBasedKeyValueBatch: Calling spill() on RowBasedKeyValueBatch. Will not spill but return 0.\n",
      "24/11/19 21:28:04 WARN RowBasedKeyValueBatch: Calling spill() on RowBasedKeyValueBatch. Will not spill but return 0.\n",
      "24/11/19 21:28:04 WARN RowBasedKeyValueBatch: Calling spill() on RowBasedKeyValueBatch. Will not spill but return 0.\n",
      "24/11/19 21:28:04 WARN RowBasedKeyValueBatch: Calling spill() on RowBasedKeyValueBatch. Will not spill but return 0.\n",
      "24/11/19 21:28:04 WARN RowBasedKeyValueBatch: Calling spill() on RowBasedKeyValueBatch. Will not spill but return 0.\n",
      "24/11/19 21:28:04 WARN RowBasedKeyValueBatch: Calling spill() on RowBasedKeyValueBatch. Will not spill but return 0.\n",
      "24/11/19 21:28:04 WARN RowBasedKeyValueBatch: Calling spill() on RowBasedKeyValueBatch. Will not spill but return 0.\n",
      "24/11/19 21:28:04 WARN RowBasedKeyValueBatch: Calling spill() on RowBasedKeyValueBatch. Will not spill but return 0.\n",
      "24/11/19 21:28:04 WARN RowBasedKeyValueBatch: Calling spill() on RowBasedKeyValueBatch. Will not spill but return 0.\n",
      "24/11/19 21:28:05 WARN RowBasedKeyValueBatch: Calling spill() on RowBasedKeyValueBatch. Will not spill but return 0.\n",
      "24/11/19 21:28:05 WARN RowBasedKeyValueBatch: Calling spill() on RowBasedKeyValueBatch. Will not spill but return 0.\n",
      "24/11/19 21:28:05 WARN RowBasedKeyValueBatch: Calling spill() on RowBasedKeyValueBatch. Will not spill but return 0.\n",
      "24/11/19 21:28:05 WARN RowBasedKeyValueBatch: Calling spill() on RowBasedKeyValueBatch. Will not spill but return 0.\n",
      "24/11/19 21:28:05 WARN RowBasedKeyValueBatch: Calling spill() on RowBasedKeyValueBatch. Will not spill but return 0.\n",
      "24/11/19 21:28:05 WARN RowBasedKeyValueBatch: Calling spill() on RowBasedKeyValueBatch. Will not spill but return 0.\n",
      "24/11/19 21:28:05 WARN RowBasedKeyValueBatch: Calling spill() on RowBasedKeyValueBatch. Will not spill but return 0.\n",
      "24/11/19 21:28:05 WARN RowBasedKeyValueBatch: Calling spill() on RowBasedKeyValueBatch. Will not spill but return 0.\n",
      "24/11/19 21:28:05 WARN RowBasedKeyValueBatch: Calling spill() on RowBasedKeyValueBatch. Will not spill but return 0.\n",
      "24/11/19 21:28:05 WARN RowBasedKeyValueBatch: Calling spill() on RowBasedKeyValueBatch. Will not spill but return 0.\n",
      "24/11/19 21:28:05 WARN RowBasedKeyValueBatch: Calling spill() on RowBasedKeyValueBatch. Will not spill but return 0.\n",
      "24/11/19 21:28:05 WARN RowBasedKeyValueBatch: Calling spill() on RowBasedKeyValueBatch. Will not spill but return 0.\n",
      "24/11/19 21:28:05 WARN RowBasedKeyValueBatch: Calling spill() on RowBasedKeyValueBatch. Will not spill but return 0.\n",
      "24/11/19 21:28:05 WARN RowBasedKeyValueBatch: Calling spill() on RowBasedKeyValueBatch. Will not spill but return 0.\n",
      "24/11/19 21:28:05 WARN RowBasedKeyValueBatch: Calling spill() on RowBasedKeyValueBatch. Will not spill but return 0.\n",
      "24/11/19 21:28:05 WARN RowBasedKeyValueBatch: Calling spill() on RowBasedKeyValueBatch. Will not spill but return 0.\n",
      "[Stage 51:===================================================>    (22 + 2) / 24]\r"
     ]
    },
    {
     "name": "stdout",
     "output_type": "stream",
     "text": [
      "+--------------+----+---------------+\n",
      "|   artist_name|year|playlist_number|\n",
      "+--------------+----+---------------+\n",
      "|    Kanye West|2011|              4|\n",
      "|       Rihanna|2011|              1|\n",
      "|         Drake|2012|             24|\n",
      "|    Kanye West|2012|             20|\n",
      "|Kendrick Lamar|2012|              4|\n",
      "|       Rihanna|2012|             31|\n",
      "|    The Weeknd|2012|              2|\n",
      "|         Drake|2013|            490|\n",
      "|    Kanye West|2013|            432|\n",
      "|Kendrick Lamar|2013|            266|\n",
      "|       Rihanna|2013|            498|\n",
      "|    The Weeknd|2013|             93|\n",
      "|         Drake|2014|            815|\n",
      "|    Kanye West|2014|            774|\n",
      "|Kendrick Lamar|2014|            428|\n",
      "|       Rihanna|2014|            773|\n",
      "|    The Weeknd|2014|            198|\n",
      "|         Drake|2015|           2405|\n",
      "|    Kanye West|2015|           1815|\n",
      "|Kendrick Lamar|2015|           1209|\n",
      "|       Rihanna|2015|           2021|\n",
      "|    The Weeknd|2015|           2205|\n",
      "|         Drake|2016|           7673|\n",
      "|    Kanye West|2016|           4949|\n",
      "|Kendrick Lamar|2016|           2429|\n",
      "|       Rihanna|2016|           5946|\n",
      "|    The Weeknd|2016|           4311|\n",
      "|         Drake|2017|          20106|\n",
      "|    Kanye West|2017|          13689|\n",
      "|Kendrick Lamar|2017|          13886|\n",
      "|       Rihanna|2017|          14436|\n",
      "|    The Weeknd|2017|          12839|\n",
      "+--------------+----+---------------+\n",
      "\n"
     ]
    },
    {
     "name": "stderr",
     "output_type": "stream",
     "text": [
      "                                                                                \r"
     ]
    }
   ],
   "source": [
    "artists_per_year = tracks_with_playlists \\\n",
    "    .join(most_popular_artists, tracks_with_playlists.artist_uri == most_popular_artists.artist_uri, \"inner\") \\\n",
    "    .drop(most_popular_artists.artist_uri, most_popular_artists.artist_name) \\\n",
    "    .withColumn(\"year\", F.year(F.from_unixtime(\"modified_at\"))) \\\n",
    "    .groupBy(\"artist_name\", \"year\") \\\n",
    "    .agg(F.countDistinct(\"pid\").alias(\"playlist_number\")) \\\n",
    "    .sort(\"year\", \"artist_name\", \"playlist_number\") \\\n",
    "\n",
    "artists_per_year.show(artists_per_year.count())"
   ]
  },
  {
   "cell_type": "code",
   "execution_count": 16,
   "id": "e36e9fd0-87ef-4b96-a6a8-d7149c823234",
   "metadata": {},
   "outputs": [
    {
     "name": "stderr",
     "output_type": "stream",
     "text": [
      "24/11/19 21:28:23 WARN RowBasedKeyValueBatch: Calling spill() on RowBasedKeyValueBatch. Will not spill but return 0.\n",
      "24/11/19 21:28:23 WARN RowBasedKeyValueBatch: Calling spill() on RowBasedKeyValueBatch. Will not spill but return 0.\n",
      "24/11/19 21:28:23 WARN RowBasedKeyValueBatch: Calling spill() on RowBasedKeyValueBatch. Will not spill but return 0.\n",
      "24/11/19 21:28:23 WARN RowBasedKeyValueBatch: Calling spill() on RowBasedKeyValueBatch. Will not spill but return 0.\n",
      "24/11/19 21:28:23 WARN RowBasedKeyValueBatch: Calling spill() on RowBasedKeyValueBatch. Will not spill but return 0.\n",
      "24/11/19 21:28:23 WARN RowBasedKeyValueBatch: Calling spill() on RowBasedKeyValueBatch. Will not spill but return 0.\n",
      "24/11/19 21:28:23 WARN RowBasedKeyValueBatch: Calling spill() on RowBasedKeyValueBatch. Will not spill but return 0.\n",
      "24/11/19 21:28:23 WARN RowBasedKeyValueBatch: Calling spill() on RowBasedKeyValueBatch. Will not spill but return 0.\n",
      "24/11/19 21:28:23 WARN RowBasedKeyValueBatch: Calling spill() on RowBasedKeyValueBatch. Will not spill but return 0.\n",
      "24/11/19 21:28:23 WARN RowBasedKeyValueBatch: Calling spill() on RowBasedKeyValueBatch. Will not spill but return 0.\n",
      "24/11/19 21:28:23 WARN RowBasedKeyValueBatch: Calling spill() on RowBasedKeyValueBatch. Will not spill but return 0.\n",
      "24/11/19 21:28:23 WARN RowBasedKeyValueBatch: Calling spill() on RowBasedKeyValueBatch. Will not spill but return 0.\n",
      "24/11/19 21:28:23 WARN RowBasedKeyValueBatch: Calling spill() on RowBasedKeyValueBatch. Will not spill but return 0.\n",
      "24/11/19 21:28:23 WARN RowBasedKeyValueBatch: Calling spill() on RowBasedKeyValueBatch. Will not spill but return 0.\n",
      "24/11/19 21:28:23 WARN RowBasedKeyValueBatch: Calling spill() on RowBasedKeyValueBatch. Will not spill but return 0.\n",
      "24/11/19 21:28:23 WARN RowBasedKeyValueBatch: Calling spill() on RowBasedKeyValueBatch. Will not spill but return 0.\n",
      "24/11/19 21:28:24 WARN RowBasedKeyValueBatch: Calling spill() on RowBasedKeyValueBatch. Will not spill but return 0.\n",
      "24/11/19 21:28:24 WARN RowBasedKeyValueBatch: Calling spill() on RowBasedKeyValueBatch. Will not spill but return 0.\n",
      "24/11/19 21:28:24 WARN RowBasedKeyValueBatch: Calling spill() on RowBasedKeyValueBatch. Will not spill but return 0.\n",
      "24/11/19 21:28:24 WARN RowBasedKeyValueBatch: Calling spill() on RowBasedKeyValueBatch. Will not spill but return 0.\n",
      "24/11/19 21:28:24 WARN RowBasedKeyValueBatch: Calling spill() on RowBasedKeyValueBatch. Will not spill but return 0.\n",
      "24/11/19 21:28:24 WARN RowBasedKeyValueBatch: Calling spill() on RowBasedKeyValueBatch. Will not spill but return 0.\n",
      "24/11/19 21:28:24 WARN RowBasedKeyValueBatch: Calling spill() on RowBasedKeyValueBatch. Will not spill but return 0.\n",
      "24/11/19 21:28:24 WARN RowBasedKeyValueBatch: Calling spill() on RowBasedKeyValueBatch. Will not spill but return 0.\n",
      "24/11/19 21:28:24 WARN RowBasedKeyValueBatch: Calling spill() on RowBasedKeyValueBatch. Will not spill but return 0.\n",
      "24/11/19 21:28:24 WARN RowBasedKeyValueBatch: Calling spill() on RowBasedKeyValueBatch. Will not spill but return 0.\n",
      "24/11/19 21:28:24 WARN RowBasedKeyValueBatch: Calling spill() on RowBasedKeyValueBatch. Will not spill but return 0.\n",
      "24/11/19 21:28:24 WARN RowBasedKeyValueBatch: Calling spill() on RowBasedKeyValueBatch. Will not spill but return 0.\n",
      "24/11/19 21:28:24 WARN RowBasedKeyValueBatch: Calling spill() on RowBasedKeyValueBatch. Will not spill but return 0.\n",
      "24/11/19 21:28:24 WARN RowBasedKeyValueBatch: Calling spill() on RowBasedKeyValueBatch. Will not spill but return 0.\n",
      "24/11/19 21:28:24 WARN RowBasedKeyValueBatch: Calling spill() on RowBasedKeyValueBatch. Will not spill but return 0.\n",
      "24/11/19 21:28:24 WARN RowBasedKeyValueBatch: Calling spill() on RowBasedKeyValueBatch. Will not spill but return 0.\n",
      "                                                                                \r"
     ]
    },
    {
     "name": "stdout",
     "output_type": "stream",
     "text": [
      "{'Kanye West': {2011: 4, 2012: 20, 2013: 432, 2014: 774, 2015: 1815, 2016: 4949, 2017: 13689}, 'Rihanna': {2011: 1, 2012: 31, 2013: 498, 2014: 773, 2015: 2021, 2016: 5946, 2017: 14436}, 'Drake': {2012: 24, 2013: 490, 2014: 815, 2015: 2405, 2016: 7673, 2017: 20106}, 'Kendrick Lamar': {2012: 4, 2013: 266, 2014: 428, 2015: 1209, 2016: 2429, 2017: 13886}, 'The Weeknd': {2012: 2, 2013: 93, 2014: 198, 2015: 2205, 2016: 4311, 2017: 12839}}\n"
     ]
    }
   ],
   "source": [
    "# Data manipulation to plot the chart later\n",
    "data = artists_per_year.collect()\n",
    "\n",
    "plot_data = {}\n",
    "for row in data:\n",
    "    artist = row.artist_name\n",
    "    year = row.year\n",
    "    playlist_number = row.playlist_number\n",
    "    if artist not in plot_data:\n",
    "        plot_data[artist] = {}\n",
    "    plot_data[artist][year] = playlist_number\n",
    "\n",
    "print(plot_data)"
   ]
  },
  {
   "cell_type": "code",
   "execution_count": 17,
   "id": "b7073855-7668-4ca9-8c92-b990f82f34d1",
   "metadata": {},
   "outputs": [
    {
     "name": "stdout",
     "output_type": "stream",
     "text": [
      "[2011, 2012, 2013, 2014, 2015, 2016, 2017]\n"
     ]
    }
   ],
   "source": [
    "# Getting an array of years to plot\n",
    "unique_years = set()\n",
    "for artist_data in plot_data.values():\n",
    "    for year in artist_data:\n",
    "        unique_years.add(year)\n",
    "\n",
    "years = sorted(unique_years)\n",
    "\n",
    "print(years)"
   ]
  },
  {
   "cell_type": "code",
   "execution_count": 18,
   "id": "9ff6988e-f798-41c2-a430-7db4945db31c",
   "metadata": {},
   "outputs": [
    {
     "name": "stdout",
     "output_type": "stream",
     "text": [
      "dict_keys(['Kanye West', 'Rihanna', 'Drake', 'Kendrick Lamar', 'The Weeknd'])\n"
     ]
    }
   ],
   "source": [
    "artists = plot_data.keys()\n",
    "\n",
    "print(artists)"
   ]
  },
  {
   "cell_type": "code",
   "execution_count": 19,
   "id": "2672ea09-0759-41a4-a594-d37a667df59b",
   "metadata": {},
   "outputs": [
    {
     "data": {
      "image/png": "[encoded data removed]",
      "text/plain": [
       "<Figure size 1000x600 with 1 Axes>"
      ]
     },
     "metadata": {},
     "output_type": "display_data"
    }
   ],
   "source": [
    "def plot_artist():\n",
    "    for artist in artists:\n",
    "        artist_data = []\n",
    "        for year in years:\n",
    "            value = plot_data[artist].get(year, 0)  # Get value for the year or default to 0\n",
    "            artist_data.append(value)\n",
    "        plt.plot(years, artist_data, label=artist)\n",
    "\n",
    "plt.figure(figsize=(10, 6))\n",
    "plot_artist()\n",
    "plt.title(\"Number of Playlists Containing Each Most Popular Artist Over the Years\")\n",
    "plt.xlabel(\"Year\")\n",
    "plt.ylabel(\"Number of Playlists\")\n",
    "plt.legend()\n",
    "plt.grid(True)\n",
    "plt.show()"
   ]
  },
  {
   "cell_type": "markdown",
   "id": "ad2e8525-3d63-43e9-bc07-468049e7d43a",
   "metadata": {},
   "source": [
    "## Task 3 - Playlists's behavior"
   ]
  },
  {
   "cell_type": "code",
   "execution_count": 21,
   "id": "040c0768-1fb0-45a1-874c-e75c3a12d535",
   "metadata": {},
   "outputs": [
    {
     "name": "stderr",
     "output_type": "stream",
     "text": [
      "[Stage 80:=====================================================>  (23 + 1) / 24]\r"
     ]
    },
    {
     "name": "stdout",
     "output_type": "stream",
     "text": [
      "+---+--------------------+-----------+\n",
      "|pid|          artist_uri|track_count|\n",
      "+---+--------------------+-----------+\n",
      "|  0|spotify:artist:6v...|          2|\n",
      "|  0|spotify:artist:2H...|          4|\n",
      "|  3|spotify:artist:78...|          1|\n",
      "| 11|spotify:artist:1H...|          1|\n",
      "| 21|spotify:artist:3N...|          1|\n",
      "| 32|spotify:artist:2y...|          1|\n",
      "| 34|spotify:artist:0c...|          1|\n",
      "| 48|spotify:artist:4x...|          1|\n",
      "| 53|spotify:artist:3s...|          1|\n",
      "| 53|spotify:artist:5K...|          1|\n",
      "| 57|spotify:artist:3I...|          2|\n",
      "| 63|spotify:artist:0U...|          1|\n",
      "| 64|spotify:artist:4t...|          1|\n",
      "| 83|spotify:artist:4o...|          1|\n",
      "| 84|spotify:artist:6f...|          1|\n",
      "| 86|spotify:artist:2h...|          1|\n",
      "| 93|spotify:artist:1X...|          1|\n",
      "| 95|spotify:artist:3n...|          1|\n",
      "| 96|spotify:artist:26...|          5|\n",
      "|106|spotify:artist:27...|          1|\n",
      "+---+--------------------+-----------+\n",
      "only showing top 20 rows\n",
      "\n"
     ]
    },
    {
     "name": "stderr",
     "output_type": "stream",
     "text": [
      "                                                                                \r"
     ]
    }
   ],
   "source": [
    "# First we need to group by playlist id and artist URI, count tracks for each artist\n",
    "artist_counts = tracks_with_playlists \\\n",
    "    .groupBy(\"pid\", \"artist_uri\") \\\n",
    "    .agg(F.count(\"track_uri\").alias(\"track_count\")\n",
    ")\n",
    "\n",
    "artist_counts.show()"
   ]
  },
  {
   "cell_type": "code",
   "execution_count": 22,
   "id": "3c83d554-2cc5-43fd-b688-57012a6e94b6",
   "metadata": {},
   "outputs": [
    {
     "name": "stderr",
     "output_type": "stream",
     "text": [
      "24/11/19 21:29:22 WARN RowBasedKeyValueBatch: Calling spill() on RowBasedKeyValueBatch. Will not spill but return 0.\n",
      "24/11/19 21:29:22 WARN RowBasedKeyValueBatch: Calling spill() on RowBasedKeyValueBatch. Will not spill but return 0.\n",
      "24/11/19 21:29:22 WARN RowBasedKeyValueBatch: Calling spill() on RowBasedKeyValueBatch. Will not spill but return 0.\n",
      "24/11/19 21:29:22 WARN RowBasedKeyValueBatch: Calling spill() on RowBasedKeyValueBatch. Will not spill but return 0.\n",
      "24/11/19 21:29:22 WARN RowBasedKeyValueBatch: Calling spill() on RowBasedKeyValueBatch. Will not spill but return 0.\n",
      "24/11/19 21:29:22 WARN RowBasedKeyValueBatch: Calling spill() on RowBasedKeyValueBatch. Will not spill but return 0.\n",
      "24/11/19 21:29:22 WARN RowBasedKeyValueBatch: Calling spill() on RowBasedKeyValueBatch. Will not spill but return 0.\n",
      "24/11/19 21:29:22 WARN RowBasedKeyValueBatch: Calling spill() on RowBasedKeyValueBatch. Will not spill but return 0.\n",
      "24/11/19 21:29:23 WARN RowBasedKeyValueBatch: Calling spill() on RowBasedKeyValueBatch. Will not spill but return 0.\n",
      "24/11/19 21:29:23 WARN RowBasedKeyValueBatch: Calling spill() on RowBasedKeyValueBatch. Will not spill but return 0.\n",
      "24/11/19 21:29:23 WARN RowBasedKeyValueBatch: Calling spill() on RowBasedKeyValueBatch. Will not spill but return 0.\n",
      "24/11/19 21:29:23 WARN RowBasedKeyValueBatch: Calling spill() on RowBasedKeyValueBatch. Will not spill but return 0.\n",
      "24/11/19 21:29:23 WARN RowBasedKeyValueBatch: Calling spill() on RowBasedKeyValueBatch. Will not spill but return 0.\n",
      "24/11/19 21:29:23 WARN RowBasedKeyValueBatch: Calling spill() on RowBasedKeyValueBatch. Will not spill but return 0.\n",
      "24/11/19 21:29:23 WARN RowBasedKeyValueBatch: Calling spill() on RowBasedKeyValueBatch. Will not spill but return 0.\n",
      "24/11/19 21:29:23 WARN RowBasedKeyValueBatch: Calling spill() on RowBasedKeyValueBatch. Will not spill but return 0.\n"
     ]
    },
    {
     "name": "stdout",
     "output_type": "stream",
     "text": [
      "+----+---------------+\n",
      "| pid|max_track_count|\n",
      "+----+---------------+\n",
      "|  26|              4|\n",
      "|  29|              2|\n",
      "| 964|              7|\n",
      "|1677|              4|\n",
      "|1697|              2|\n",
      "|1806|              4|\n",
      "|1950|              3|\n",
      "|2040|              5|\n",
      "|2214|              5|\n",
      "|2250|              4|\n",
      "|2453|             10|\n",
      "|2509|              3|\n",
      "|2529|              3|\n",
      "|2927|              3|\n",
      "|3091|              3|\n",
      "|3506|              6|\n",
      "|3764|              4|\n",
      "|4590|             16|\n",
      "|4823|              1|\n",
      "|5385|              1|\n",
      "+----+---------------+\n",
      "only showing top 20 rows\n",
      "\n"
     ]
    },
    {
     "name": "stderr",
     "output_type": "stream",
     "text": [
      "                                                                                \r"
     ]
    }
   ],
   "source": [
    "# Find the maximum track count for the most frequent artist in each playlist\n",
    "most_frequent_artist = artist_counts \\\n",
    "    .groupBy(\"pid\") \\\n",
    "    .agg(F.max(\"track_count\").alias(\"max_track_count\")\n",
    ")\n",
    "\n",
    "most_frequent_artist.show()"
   ]
  },
  {
   "cell_type": "code",
   "execution_count": 24,
   "id": "1c5a11f4-4224-4d18-ac0a-63caec31d3e6",
   "metadata": {},
   "outputs": [
    {
     "name": "stderr",
     "output_type": "stream",
     "text": [
      "[Stage 91:=================================================>      (21 + 3) / 24]\r"
     ]
    },
    {
     "name": "stdout",
     "output_type": "stream",
     "text": [
      "+------+------------+\n",
      "|   pid|total_tracks|\n",
      "+------+------------+\n",
      "|    26|          24|\n",
      "|    29|          40|\n",
      "|   474|          24|\n",
      "|   964|         132|\n",
      "|100031|          64|\n",
      "|100501|         193|\n",
      "|100565|          67|\n",
      "|100847|          36|\n",
      "|100852|         188|\n",
      "|  1677|          27|\n",
      "|  1697|          11|\n",
      "|  1806|          89|\n",
      "|  1950|          14|\n",
      "|101011|          64|\n",
      "|101067|          37|\n",
      "|101155|          35|\n",
      "|101221|          85|\n",
      "|101333|          48|\n",
      "|101496|          62|\n",
      "|101507|          31|\n",
      "+------+------------+\n",
      "only showing top 20 rows\n",
      "\n"
     ]
    },
    {
     "name": "stderr",
     "output_type": "stream",
     "text": [
      "                                                                                \r"
     ]
    }
   ],
   "source": [
    "# Calculate the total number of tracks for each playlist\n",
    "playlist_total_tracks = tracks_with_playlists \\\n",
    "    .groupBy(\"pid\") \\\n",
    "    .agg(F.count(\"track_uri\").alias(\"total_tracks\")\n",
    ")\n",
    "\n",
    "playlist_total_tracks.show()"
   ]
  },
  {
   "cell_type": "code",
   "execution_count": 27,
   "id": "f5204ea8-e0ba-4016-ba3c-79cc72921ddc",
   "metadata": {},
   "outputs": [
    {
     "name": "stderr",
     "output_type": "stream",
     "text": [
      "24/11/19 21:30:05 WARN RowBasedKeyValueBatch: Calling spill() on RowBasedKeyValueBatch. Will not spill but return 0.\n",
      "24/11/19 21:30:05 WARN RowBasedKeyValueBatch: Calling spill() on RowBasedKeyValueBatch. Will not spill but return 0.\n",
      "24/11/19 21:30:05 WARN RowBasedKeyValueBatch: Calling spill() on RowBasedKeyValueBatch. Will not spill but return 0.\n",
      "24/11/19 21:30:05 WARN RowBasedKeyValueBatch: Calling spill() on RowBasedKeyValueBatch. Will not spill but return 0.\n",
      "24/11/19 21:30:05 WARN RowBasedKeyValueBatch: Calling spill() on RowBasedKeyValueBatch. Will not spill but return 0.\n",
      "24/11/19 21:30:05 WARN RowBasedKeyValueBatch: Calling spill() on RowBasedKeyValueBatch. Will not spill but return 0.\n",
      "24/11/19 21:30:05 WARN RowBasedKeyValueBatch: Calling spill() on RowBasedKeyValueBatch. Will not spill but return 0.\n",
      "24/11/19 21:30:05 WARN RowBasedKeyValueBatch: Calling spill() on RowBasedKeyValueBatch. Will not spill but return 0.\n",
      "24/11/19 21:30:05 WARN RowBasedKeyValueBatch: Calling spill() on RowBasedKeyValueBatch. Will not spill but return 0.\n",
      "24/11/19 21:30:05 WARN RowBasedKeyValueBatch: Calling spill() on RowBasedKeyValueBatch. Will not spill but return 0.\n",
      "24/11/19 21:30:05 WARN RowBasedKeyValueBatch: Calling spill() on RowBasedKeyValueBatch. Will not spill but return 0.\n",
      "24/11/19 21:30:05 WARN RowBasedKeyValueBatch: Calling spill() on RowBasedKeyValueBatch. Will not spill but return 0.\n",
      "24/11/19 21:30:05 WARN RowBasedKeyValueBatch: Calling spill() on RowBasedKeyValueBatch. Will not spill but return 0.\n",
      "24/11/19 21:30:05 WARN RowBasedKeyValueBatch: Calling spill() on RowBasedKeyValueBatch. Will not spill but return 0.\n",
      "24/11/19 21:30:05 WARN RowBasedKeyValueBatch: Calling spill() on RowBasedKeyValueBatch. Will not spill but return 0.\n",
      "24/11/19 21:30:05 WARN RowBasedKeyValueBatch: Calling spill() on RowBasedKeyValueBatch. Will not spill but return 0.\n",
      "24/11/19 21:30:05 WARN RowBasedKeyValueBatch: Calling spill() on RowBasedKeyValueBatch. Will not spill but return 0.\n",
      "24/11/19 21:30:05 WARN RowBasedKeyValueBatch: Calling spill() on RowBasedKeyValueBatch. Will not spill but return 0.\n",
      "24/11/19 21:30:05 WARN RowBasedKeyValueBatch: Calling spill() on RowBasedKeyValueBatch. Will not spill but return 0.\n",
      "24/11/19 21:30:06 WARN RowBasedKeyValueBatch: Calling spill() on RowBasedKeyValueBatch. Will not spill but return 0.\n",
      "                                                                                \r"
     ]
    },
    {
     "name": "stdout",
     "output_type": "stream",
     "text": [
      "+----+---------------+------------+--------------------+\n",
      "| pid|max_track_count|total_tracks|          prevalence|\n",
      "+----+---------------+------------+--------------------+\n",
      "|  26|              4|          24| 0.16666666666666666|\n",
      "|  29|              2|          40|                0.05|\n",
      "| 964|              7|         132| 0.05303030303030303|\n",
      "|1677|              4|          27| 0.14814814814814814|\n",
      "|1697|              2|          11| 0.18181818181818182|\n",
      "|1806|              4|          89|  0.0449438202247191|\n",
      "|1950|              3|          14| 0.21428571428571427|\n",
      "|2040|              5|          50|                 0.1|\n",
      "|2214|              5|          47| 0.10638297872340426|\n",
      "|2250|              4|          65| 0.06153846153846154|\n",
      "|2453|             10|         134| 0.07462686567164178|\n",
      "|2509|              3|          45| 0.06666666666666667|\n",
      "|2529|              3|          32|             0.09375|\n",
      "|2927|              3|          23| 0.13043478260869565|\n",
      "|3091|              3|          18| 0.16666666666666666|\n",
      "|3506|              6|          75|                0.08|\n",
      "|3764|              4|         116|0.034482758620689655|\n",
      "|4590|             16|         125|               0.128|\n",
      "|4823|              1|          11| 0.09090909090909091|\n",
      "|5385|              1|          28| 0.03571428571428571|\n",
      "+----+---------------+------------+--------------------+\n",
      "only showing top 20 rows\n",
      "\n"
     ]
    }
   ],
   "source": [
    "# Join with total tracks and calculate the prevalence (most frequent artist count / total tracks in the playlist)\n",
    "prevalence_df = most_frequent_artist \\\n",
    "    .join(playlist_total_tracks, \"pid\") \\\n",
    "    .withColumn(\"prevalence\", F.col(\"max_track_count\") / F.col(\"total_tracks\")\n",
    ")\n",
    "\n",
    "prevalence_df.show()"
   ]
  },
  {
   "cell_type": "code",
   "execution_count": 28,
   "id": "bcb78d1e-8251-4977-b2ee-31a351de6181",
   "metadata": {},
   "outputs": [
    {
     "name": "stderr",
     "output_type": "stream",
     "text": [
      "24/11/19 21:30:20 WARN RowBasedKeyValueBatch: Calling spill() on RowBasedKeyValueBatch. Will not spill but return 0.\n",
      "24/11/19 21:30:20 WARN RowBasedKeyValueBatch: Calling spill() on RowBasedKeyValueBatch. Will not spill but return 0.\n",
      "24/11/19 21:30:21 WARN RowBasedKeyValueBatch: Calling spill() on RowBasedKeyValueBatch. Will not spill but return 0.\n",
      "24/11/19 21:30:21 WARN RowBasedKeyValueBatch: Calling spill() on RowBasedKeyValueBatch. Will not spill but return 0.\n",
      "24/11/19 21:30:21 WARN RowBasedKeyValueBatch: Calling spill() on RowBasedKeyValueBatch. Will not spill but return 0.\n",
      "24/11/19 21:30:21 WARN RowBasedKeyValueBatch: Calling spill() on RowBasedKeyValueBatch. Will not spill but return 0.\n",
      "24/11/19 21:30:21 WARN RowBasedKeyValueBatch: Calling spill() on RowBasedKeyValueBatch. Will not spill but return 0.\n",
      "24/11/19 21:30:21 WARN RowBasedKeyValueBatch: Calling spill() on RowBasedKeyValueBatch. Will not spill but return 0.\n",
      "24/11/19 21:30:21 WARN RowBasedKeyValueBatch: Calling spill() on RowBasedKeyValueBatch. Will not spill but return 0.\n",
      "24/11/19 21:30:21 WARN RowBasedKeyValueBatch: Calling spill() on RowBasedKeyValueBatch. Will not spill but return 0.\n",
      "24/11/19 21:30:21 WARN RowBasedKeyValueBatch: Calling spill() on RowBasedKeyValueBatch. Will not spill but return 0.\n",
      "24/11/19 21:30:21 WARN RowBasedKeyValueBatch: Calling spill() on RowBasedKeyValueBatch. Will not spill but return 0.\n",
      "24/11/19 21:30:21 WARN RowBasedKeyValueBatch: Calling spill() on RowBasedKeyValueBatch. Will not spill but return 0.\n",
      "24/11/19 21:30:21 WARN RowBasedKeyValueBatch: Calling spill() on RowBasedKeyValueBatch. Will not spill but return 0.\n",
      "24/11/19 21:30:21 WARN RowBasedKeyValueBatch: Calling spill() on RowBasedKeyValueBatch. Will not spill but return 0.\n",
      "24/11/19 21:30:21 WARN RowBasedKeyValueBatch: Calling spill() on RowBasedKeyValueBatch. Will not spill but return 0.\n",
      "                                                                                \r"
     ]
    }
   ],
   "source": [
    "# Collect the prevalence values for plot later\n",
    "prevalence_values = prevalence_df \\\n",
    "    .select(\"prevalence\") \\\n",
    "    .rdd \\\n",
    "    .flatMap(lambda x: x) \\\n",
    "    .collect()\n",
    "prevalence_values = sorted(prevalence_values)\n",
    "\n",
    "# Compute the CDF\n",
    "cdf_values = []\n",
    "n = len(prevalence_values)\n",
    "for i in range(n):\n",
    "    cumulative_probability = (i + 1) / n\n",
    "    cdf_values.append(cumulative_probability)"
   ]
  },
  {
   "cell_type": "code",
   "execution_count": 29,
   "id": "19d8ef87-5deb-46e7-9c4e-bf351afc5940",
   "metadata": {},
   "outputs": [
    {
     "data": {
      "image/png": "[encoded data removed]",
      "text/plain": [
       "<Figure size 1000x600 with 1 Axes>"
      ]
     },
     "metadata": {},
     "output_type": "display_data"
    }
   ],
   "source": [
    "# Plot the CDF\n",
    "plt.figure(figsize=(10, 6))\n",
    "plt.plot(prevalence_values, cdf_values)\n",
    "plt.title(\"Cumulative Distribution Function of Artist Prevalence in Playlists\")\n",
    "plt.xlabel(\"Prevalence of Most Frequent Artist\")\n",
    "plt.ylabel(\"Cumulative Proportion of Playlists\")\n",
    "plt.grid()"
   ]
  }
 ],
 "metadata": {
  "kernelspec": {
   "display_name": "Python 3 (ipykernel)",
   "language": "python",
   "name": "python3"
  },
  "language_info": {
   "codemirror_mode": {
    "name": "ipython",
    "version": 3
   },
   "file_extension": ".py",
   "mimetype": "text/x-python",
   "name": "python",
   "nbconvert_exporter": "python",
   "pygments_lexer": "ipython3",
   "version": "3.11.2"
  }
 },
 "nbformat": 4,
 "nbformat_minor": 5
}
